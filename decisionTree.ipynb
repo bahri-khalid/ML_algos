{
 "cells": [
  {
   "cell_type": "code",
   "execution_count": 4,
   "id": "60fc6c40",
   "metadata": {},
   "outputs": [
    {
     "name": "stdout",
     "output_type": "stream",
     "text": [
      "0.5\n"
     ]
    }
   ],
   "source": [
    "from numpy import *\n",
    "import pandas\n",
    "df = pandas.DataFrame([[0,1,'C1'],[0,0,'C1'],[1,1,'C2'],[1,0,'C2']],columns=['A','B','Classes'])\n",
    "df = df.to_numpy()\n",
    "\n",
    "def Entropie(S):\n",
    "    S=array(S)\n",
    "    classes_distinctes = set(S[:,-1])\n",
    "    classes = list(S[:,-1])\n",
    "    s=0\n",
    "    for c in classes_distinctes:\n",
    "        p=classes.count(c)/len(classes)\n",
    "        s+=p*log2(p)\n",
    "        return(-1.0*s)\n",
    "print(Entropie(df))"
   ]
  },
  {
   "cell_type": "code",
   "execution_count": 6,
   "id": "e0cfd221",
   "metadata": {},
   "outputs": [
    {
     "name": "stdout",
     "output_type": "stream",
     "text": [
      "[['poitrine' 45 'oui' 'oui']\n",
      " ['ailleurs' 25 'oui' 'oui']\n",
      " ['poitrine' 35 'non' 'oui']\n",
      " ['poitrine' 70 'oui' 'oui']\n",
      " ['ailleurs' 34 'non' 'oui']\n",
      " ['poitrine' 60 'non' 'non']\n",
      " ['ailleurs' 67 'non' 'non']\n",
      " ['poitrine' 52 'oui' 'non']\n",
      " ['ailleurs' 58 'non' 'non']\n",
      " ['ailleurs' 34 'non' 'non']]\n",
      "0.01452470277266571\n",
      "0.06601499971153751\n"
     ]
    },
    {
     "name": "stderr",
     "output_type": "stream",
     "text": [
      "/tmp/ipykernel_5668/1053259294.py:11: VisibleDeprecationWarning: Creating an ndarray from ragged nested sequences (which is a list-or-tuple of lists-or-tuples-or ndarrays with different lengths or shapes) is deprecated. If you meant to do this, you must specify 'dtype=object' when creating the ndarray.\n",
      "  Si = array(Si)\n"
     ]
    }
   ],
   "source": [
    "def Gain_d_information(S,numero_colon_attribut):\n",
    "    classes = list(set(S[:,-1]))\n",
    "    valeurs_attribut = list(set(S[:,numero_colon_attribut]))\n",
    "    Si=[[] for i in range(len(valeurs_attribut))]\n",
    "    for e in S:\n",
    "        e=list(e)\n",
    "        val_attribut_pour_e=e[numero_colon_attribut]\n",
    "        numero_sous_ensemble = valeurs_attribut.index(val_attribut_pour_e)\n",
    "        Si[numero_sous_ensemble].append(e)\n",
    "\n",
    "    Si = array(Si)\n",
    "    som = 0\n",
    "    for sous_ensemble in Si:\n",
    "        som+=(len(sous_ensemble)/len(S))*Entropie(sous_ensemble)\n",
    "    return(Entropie(S) - som)\n",
    "\n",
    "fichier = pandas.read_csv(\"donneesAD.csv\",sep=';')\n",
    "# fichier = fichier.drop(columns = \"Age\")\n",
    "df2 = fichier.iloc[:,:].to_numpy()\n",
    "\n",
    "print(df2)\n",
    "print(Gain_d_information(df2,0))\n",
    "print(Gain_d_information(df2,2))"
   ]
  },
  {
   "cell_type": "code",
   "execution_count": 21,
   "id": "ab7814b1",
   "metadata": {},
   "outputs": [
    {
     "data": {
      "text/plain": [
       "0.5"
      ]
     },
     "execution_count": 21,
     "metadata": {},
     "output_type": "execute_result"
    }
   ],
   "source": [
    "def GINI(S):\n",
    "    S=array(S)\n",
    "    classes_distinctes=set(S[:,-1])\n",
    "    classes=list(S[:,-1])\n",
    "    s=0\n",
    "    for c in classes_distinctes:\n",
    "        p=classes.count(c)/len(classes)\n",
    "        s+=p**2\n",
    "    return 1-s\n",
    "\n",
    "GINI(df2)"
   ]
  },
  {
   "cell_type": "code",
   "execution_count": 22,
   "id": "a022fc23",
   "metadata": {},
   "outputs": [
    {
     "data": {
      "text/plain": [
       "(0.31999999999999984, 45)"
      ]
     },
     "execution_count": 22,
     "metadata": {},
     "output_type": "execute_result"
    }
   ],
   "source": [
    "def Mesure_des(S, num_col_attr):\n",
    "    Bonne_mesure_desordre =+inf\n",
    "    Bonne_valeur_de_repartition = 0\n",
    "    classes = list(set(S[:,-1]))\n",
    "    valeurs_attribut = list(set(S[:, num_col_attr]))\n",
    "    valeurs_attribut.sort()\n",
    "    Gauche = []; Droite = []\n",
    "\n",
    "    for i in range(len(valeurs_attribut)-1):\n",
    "        v = valeurs_attribut[i]\n",
    "        Gauche.clear()\n",
    "        Droite.clear()\n",
    "        for e in S:\n",
    "            val_attribut_pour_e = e[num_col_attr]\n",
    "            if(val_attribut_pour_e <= v):\n",
    "                Gauche.append(e)\n",
    "            else:\n",
    "                Droite.append(e)\n",
    "        pGau = len(Gauche)/len(S)\n",
    "        pDr = len(Droite)/len(S)\n",
    "        mesure = (pGau) * GINI(Gauche) + pDr * GINI(Droite)\n",
    "        if(mesure<Bonne_mesure_desordre):\n",
    "            Bonne_mesure_desordre = mesure\n",
    "            Bonne_valeur_de_repartition = v\n",
    "    return(Bonne_mesure_desordre, Bonne_valeur_de_repartition)\n",
    "\n",
    "Mesure_des(df2,1)"
   ]
  }
 ],
 "metadata": {
  "kernelspec": {
   "display_name": "Python 3 (ipykernel)",
   "language": "python",
   "name": "python3"
  },
  "language_info": {
   "codemirror_mode": {
    "name": "ipython",
    "version": 3
   },
   "file_extension": ".py",
   "mimetype": "text/x-python",
   "name": "python",
   "nbconvert_exporter": "python",
   "pygments_lexer": "ipython3",
   "version": "3.9.12"
  }
 },
 "nbformat": 4,
 "nbformat_minor": 5
}
