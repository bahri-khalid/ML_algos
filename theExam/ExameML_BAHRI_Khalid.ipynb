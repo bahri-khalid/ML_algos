{
 "cells": [
  {
   "cell_type": "markdown",
   "id": "d0dafe57",
   "metadata": {},
   "source": [
    "# Examen de Machine Learning\n",
    "## By BAHRI KHALID"
   ]
  },
  {
   "cell_type": "markdown",
   "id": "e96b30ab",
   "metadata": {},
   "source": [
    "**In this exam i'm going to use the following libraries and i will explainthe utility in the time i use it**"
   ]
  },
  {
   "cell_type": "code",
   "execution_count": 1,
   "id": "f43d3f01",
   "metadata": {},
   "outputs": [],
   "source": [
    "import numpy as np\n",
    "import pandas as pd\n",
    "import matplotlib.pyplot as plt\n",
    "from sklearn.linear_model import LinearRegression\n",
    "from sklearn.model_selection import train_test_split\n",
    "from sklearn.metrics import mean_absolute_error as mae\n",
    "from sklearn.metrics import accuracy_score\n",
    "from sklearn.ensemble import RandomForestRegressor\n",
    "from sklearn.svm import LinearSVR\n",
    "from sklearn.preprocessing import StandardScaler\n",
    "from sklearn.feature_selection import VarianceThreshold"
   ]
  },
  {
   "cell_type": "markdown",
   "id": "938fb998",
   "metadata": {},
   "source": [
    "**In order to evaluate the models i build i will use the following two metrices**\n",
    "\n",
    "\n",
    "## the MMRE\n",
    "\n",
    "![](./resources/mmre.gif)\n",
    "\n",
    "## and the Pred(25%)\n",
    "![](./resources/pred25.png)"
   ]
  },
  {
   "cell_type": "markdown",
   "id": "b8988c02",
   "metadata": {},
   "source": [
    "**In the following three cells i will define the metric functions to use** "
   ]
  },
  {
   "cell_type": "code",
   "execution_count": 2,
   "id": "aeeea447",
   "metadata": {},
   "outputs": [],
   "source": [
    "def MRE(real,predict):\n",
    "    return abs((real-predict)/real)"
   ]
  },
  {
   "cell_type": "code",
   "execution_count": 3,
   "id": "6b04ca5f",
   "metadata": {},
   "outputs": [],
   "source": [
    "def MMRE(real,predict):\n",
    "    sumOfMRE = 0\n",
    "    m = len(real)\n",
    "    for i in range(m):\n",
    "        sumOfMRE+= MRE(real.iloc[i],predict[i])\n",
    "    return sumOfMRE/m"
   ]
  },
  {
   "cell_type": "code",
   "execution_count": 4,
   "id": "9f152a1c",
   "metadata": {},
   "outputs": [],
   "source": [
    "def Pred25(real,predict):\n",
    "    sumOfMRE = 0\n",
    "    m = len(real)\n",
    "    for i in range(m):\n",
    "        sumOfMRE+= 1 if MRE(real.iloc[i],predict[i])<0.25 else 0\n",
    "    return sumOfMRE/m"
   ]
  },
  {
   "cell_type": "markdown",
   "id": "89ab8fa6",
   "metadata": {},
   "source": [
    "**Now i will use the read_csv function from pandas to read the data  and add a new column 'team_size'**"
   ]
  },
  {
   "cell_type": "code",
   "execution_count": 5,
   "id": "3de5ed5d",
   "metadata": {},
   "outputs": [
    {
     "data": {
      "text/html": [
       "<div>\n",
       "<style scoped>\n",
       "    .dataframe tbody tr th:only-of-type {\n",
       "        vertical-align: middle;\n",
       "    }\n",
       "\n",
       "    .dataframe tbody tr th {\n",
       "        vertical-align: top;\n",
       "    }\n",
       "\n",
       "    .dataframe thead th {\n",
       "        text-align: right;\n",
       "    }\n",
       "</style>\n",
       "<table border=\"1\" class=\"dataframe\">\n",
       "  <thead>\n",
       "    <tr style=\"text-align: right;\">\n",
       "      <th></th>\n",
       "      <th>storyPoint</th>\n",
       "      <th>velocity</th>\n",
       "      <th>Effort</th>\n",
       "      <th>team_size</th>\n",
       "    </tr>\n",
       "  </thead>\n",
       "  <tbody>\n",
       "    <tr>\n",
       "      <th>0</th>\n",
       "      <td>156</td>\n",
       "      <td>2.7</td>\n",
       "      <td>63</td>\n",
       "      <td>5</td>\n",
       "    </tr>\n",
       "    <tr>\n",
       "      <th>1</th>\n",
       "      <td>202</td>\n",
       "      <td>2.5</td>\n",
       "      <td>92</td>\n",
       "      <td>5</td>\n",
       "    </tr>\n",
       "    <tr>\n",
       "      <th>2</th>\n",
       "      <td>173</td>\n",
       "      <td>3.3</td>\n",
       "      <td>56</td>\n",
       "      <td>5</td>\n",
       "    </tr>\n",
       "    <tr>\n",
       "      <th>3</th>\n",
       "      <td>331</td>\n",
       "      <td>3.8</td>\n",
       "      <td>86</td>\n",
       "      <td>5</td>\n",
       "    </tr>\n",
       "    <tr>\n",
       "      <th>4</th>\n",
       "      <td>124</td>\n",
       "      <td>4.2</td>\n",
       "      <td>32</td>\n",
       "      <td>5</td>\n",
       "    </tr>\n",
       "  </tbody>\n",
       "</table>\n",
       "</div>"
      ],
      "text/plain": [
       "   storyPoint  velocity  Effort  team_size\n",
       "0         156       2.7      63          5\n",
       "1         202       2.5      92          5\n",
       "2         173       3.3      56          5\n",
       "3         331       3.8      86          5\n",
       "4         124       4.2      32          5"
      ]
     },
     "execution_count": 5,
     "metadata": {},
     "output_type": "execute_result"
    }
   ],
   "source": [
    "data = pd.read_csv('./resources/zia.csv',sep = ';')\n",
    "team_size = np.array([5,5,5,5,5,7,5,5,5,5,5,5,5,7,5,5,5,5,5,5,5])\n",
    "teamSize = pd.DataFrame(data = {'team_size':team_size})\n",
    "data[\"team_size\"] = teamSize\n",
    "data.head()"
   ]
  },
  {
   "cell_type": "markdown",
   "id": "f730e16c",
   "metadata": {},
   "source": [
    "**In the next cell i will split the data into two parts, the features and the target the\n",
    "i will use the train_test_split function from sklearn.model_selection to split the data\n",
    "into 0.7/0.3 train/test**"
   ]
  },
  {
   "cell_type": "code",
   "execution_count": 6,
   "id": "a05fbdff",
   "metadata": {},
   "outputs": [],
   "source": [
    "target = data.Effort\n",
    "data.drop(\"Effort\", axis=1, inplace=True)\n",
    "# data.drop(\"velocity\", axis=1, inplace=True)\n",
    "Xtrain_data,Xtest_data,y_train,y_test = train_test_split(data,target,train_size = 0.7,random_state=1)"
   ]
  },
  {
   "cell_type": "code",
   "execution_count": 7,
   "id": "727812cc",
   "metadata": {},
   "outputs": [
    {
     "data": {
      "text/html": [
       "<div>\n",
       "<style scoped>\n",
       "    .dataframe tbody tr th:only-of-type {\n",
       "        vertical-align: middle;\n",
       "    }\n",
       "\n",
       "    .dataframe tbody tr th {\n",
       "        vertical-align: top;\n",
       "    }\n",
       "\n",
       "    .dataframe thead th {\n",
       "        text-align: right;\n",
       "    }\n",
       "</style>\n",
       "<table border=\"1\" class=\"dataframe\">\n",
       "  <thead>\n",
       "    <tr style=\"text-align: right;\">\n",
       "      <th></th>\n",
       "      <th>storyPoint</th>\n",
       "      <th>velocity</th>\n",
       "      <th>team_size</th>\n",
       "    </tr>\n",
       "  </thead>\n",
       "  <tbody>\n",
       "    <tr>\n",
       "      <th>4</th>\n",
       "      <td>124</td>\n",
       "      <td>4.2</td>\n",
       "      <td>5</td>\n",
       "    </tr>\n",
       "    <tr>\n",
       "      <th>2</th>\n",
       "      <td>173</td>\n",
       "      <td>3.3</td>\n",
       "      <td>5</td>\n",
       "    </tr>\n",
       "    <tr>\n",
       "      <th>6</th>\n",
       "      <td>97</td>\n",
       "      <td>3.4</td>\n",
       "      <td>5</td>\n",
       "    </tr>\n",
       "    <tr>\n",
       "      <th>7</th>\n",
       "      <td>257</td>\n",
       "      <td>3.0</td>\n",
       "      <td>5</td>\n",
       "    </tr>\n",
       "    <tr>\n",
       "      <th>1</th>\n",
       "      <td>202</td>\n",
       "      <td>2.5</td>\n",
       "      <td>5</td>\n",
       "    </tr>\n",
       "  </tbody>\n",
       "</table>\n",
       "</div>"
      ],
      "text/plain": [
       "   storyPoint  velocity  team_size\n",
       "4         124       4.2          5\n",
       "2         173       3.3          5\n",
       "6          97       3.4          5\n",
       "7         257       3.0          5\n",
       "1         202       2.5          5"
      ]
     },
     "execution_count": 7,
     "metadata": {},
     "output_type": "execute_result"
    }
   ],
   "source": [
    "Xtrain_data.head()"
   ]
  },
  {
   "cell_type": "code",
   "execution_count": 8,
   "id": "567f110d",
   "metadata": {},
   "outputs": [
    {
     "data": {
      "text/plain": [
       "4    32\n",
       "2    56\n",
       "6    35\n",
       "7    93\n",
       "1    92\n",
       "Name: Effort, dtype: int64"
      ]
     },
     "execution_count": 8,
     "metadata": {},
     "output_type": "execute_result"
    }
   ],
   "source": [
    "y_train.head()"
   ]
  },
  {
   "cell_type": "markdown",
   "id": "1b28186b",
   "metadata": {},
   "source": [
    "# StandardScaler\n",
    "**Before make any model i will start by making the data standarized using the SrandarScaler\n",
    "from sklearn.feature_selection"
   ]
  },
  {
   "cell_type": "code",
   "execution_count": 9,
   "id": "c7575df8",
   "metadata": {},
   "outputs": [
    {
     "data": {
      "text/plain": [
       "array([[-0.41174279,  2.5354089 , -0.40824829],\n",
       "       [ 0.25758316,  0.58747279, -0.40824829],\n",
       "       [-0.78055504,  0.80391014, -0.40824829],\n",
       "       [ 1.40499908, -0.06183924, -0.40824829],\n",
       "       [ 0.65371485, -1.14402597, -0.40824829],\n",
       "       [-1.09472845, -0.27827659,  2.44948974],\n",
       "       [ 0.02536804, -0.71115128, -0.40824829]])"
      ]
     },
     "execution_count": 9,
     "metadata": {},
     "output_type": "execute_result"
    }
   ],
   "source": [
    "mySS = StandardScaler()\n",
    "Xtrain_data = mySS.fit_transform(Xtrain_data)\n",
    "Xtest_data = mySS.transform(Xtest_data)\n",
    "Xtrain_data[:7,:]"
   ]
  },
  {
   "cell_type": "markdown",
   "id": "29517abc",
   "metadata": {},
   "source": [
    "**I will use the VarianceThreshold from sklearn.feature_selection in order to check \n",
    "if i need to remove any variable from the dataset and that using a threshold = 0.8x(1-0.8)**"
   ]
  },
  {
   "cell_type": "code",
   "execution_count": 10,
   "id": "8681d047",
   "metadata": {},
   "outputs": [
    {
     "data": {
      "text/plain": [
       "array([[-0.41174279,  2.5354089 , -0.40824829],\n",
       "       [ 0.25758316,  0.58747279, -0.40824829],\n",
       "       [-0.78055504,  0.80391014, -0.40824829],\n",
       "       [ 1.40499908, -0.06183924, -0.40824829],\n",
       "       [ 0.65371485, -1.14402597, -0.40824829],\n",
       "       [-1.09472845, -0.27827659,  2.44948974],\n",
       "       [ 0.02536804, -0.71115128, -0.40824829],\n",
       "       [-0.86251332, -0.71115128, -0.40824829],\n",
       "       [-0.23416651, -0.71115128, -0.40824829],\n",
       "       [ 0.77665227,  0.37103545, -0.40824829],\n",
       "       [-0.95813132, -1.36046331, -0.40824829],\n",
       "       [-0.72591619, -0.27827659, -0.40824829],\n",
       "       [-0.57565935, -0.27827659, -0.40824829],\n",
       "       [ 2.52509557,  1.23678483,  2.44948974]])"
      ]
     },
     "execution_count": 10,
     "metadata": {},
     "output_type": "execute_result"
    }
   ],
   "source": [
    "sel = VarianceThreshold(threshold=(.8* (1 - .8)))\n",
    "sel.fit_transform(Xtrain_data)"
   ]
  },
  {
   "cell_type": "markdown",
   "id": "a62a5e7a",
   "metadata": {},
   "source": [
    "**You can see that with the threshold of 0.8(1-0.8) all the variables are important\n",
    "so i will keep them all**"
   ]
  },
  {
   "cell_type": "markdown",
   "id": "661d6169",
   "metadata": {},
   "source": [
    "----\n",
    "---\n",
    "## LinearRegression() model\n",
    "**The first model i will make is the LinearRegression from sklearn.linear_model**"
   ]
  },
  {
   "cell_type": "code",
   "execution_count": 15,
   "id": "7c5dd9be",
   "metadata": {},
   "outputs": [
    {
     "name": "stdout",
     "output_type": "stream",
     "text": [
      "Train MMRE = 0.12084195325088669\n",
      "Train Pred25 = 1.0\n",
      "Test MMRE = 0.112298930451235\n",
      "Test Pred25 = 0.8571428571428571\n"
     ]
    }
   ],
   "source": [
    "clf = LinearRegression()\n",
    "clf.fit(Xtrain_data,y_train)\n",
    "predictedTest = clf.predict(Xtest_data)\n",
    "predictedTrain = clf.predict(Xtrain_data)\n",
    "print(f'Train MMRE = {MMRE(y_train,predictedTrain)}')\n",
    "print(f'Train Pred25 = {Pred25(y_train,predictedTrain)}')\n",
    "print(f'Test MMRE = {MMRE(y_test,predictedTest)}')\n",
    "print(f'Test Pred25 = {Pred25(y_test,predictedTest)}')"
   ]
  },
  {
   "cell_type": "markdown",
   "id": "e1e6a347",
   "metadata": {},
   "source": [
    "## RandomForestRegressor  model\n",
    "**Now i will make is the RandomForestRegressor from sklearn.ensemble with \n",
    "some specific paraleters**"
   ]
  },
  {
   "cell_type": "code",
   "execution_count": null,
   "id": "8ccb02c8",
   "metadata": {},
   "outputs": [],
   "source": [
    "clf2 = RandomForestRegressor(n_estimators=150,verbose=0,max_depth=5,max_leaf_nodes=50,random_state=1)\n",
    "clf2.fit(Xtrain_data,y_train)\n",
    "predictedTest2 = clf2.predict(Xtest_data)\n",
    "predictedTrain2 = clf2.predict(Xtrain_data)\n",
    "print(f'Train MMRE = {MMRE(y_train,predictedTrain2)}')\n",
    "print(f'Train Pred25 = {Pred25(y_train,predictedTrain2)}')\n",
    "print(f'Test MMRE = {MMRE(y_test,predictedTest2)}')\n",
    "print(f'Test Pred25 = {Pred25(y_test,predictedTest2)}')"
   ]
  },
  {
   "cell_type": "markdown",
   "id": "78ec29f4",
   "metadata": {},
   "source": [
    "## LinearSVR model \n",
    "**Finaly i will make is the LinearSVR from sklearn.svm with \n",
    "some specific paraleters**"
   ]
  },
  {
   "cell_type": "code",
   "execution_count": 14,
   "id": "73a66234",
   "metadata": {},
   "outputs": [
    {
     "name": "stdout",
     "output_type": "stream",
     "text": [
      "Train MMRE = 0.6918914064951933\n",
      "Train Pred25 = 0.0\n",
      "Test MMRE = 0.7044609137632394\n",
      "Test Pred25 = 0.0\n"
     ]
    }
   ],
   "source": [
    "clf3  = LinearSVR(max_iter=100000,random_state=0)\n",
    "clf3.fit(Xtrain_data,y_train)\n",
    "predicted3 = clf3.predict(Xtest_data)\n",
    "predictedTrain3 = clf3.predict(Xtrain_data)\n",
    "print(f'Train MMRE = {MMRE(y_train,predictedTrain3)}')\n",
    "print(f'Train Pred25 = {Pred25(y_train,predictedTrain3)}')\n",
    "print(f'Test MMRE = {MMRE(y_test,predicted3)}')\n",
    "print(f'Test Pred25 = {Pred25(y_test,predicted3)}')"
   ]
  },
  {
   "cell_type": "markdown",
   "id": "9ec1f530",
   "metadata": {},
   "source": [
    "**The following plot is using the target variale and the storyPoint\n",
    "and we can see that there is a very strong linear relation between them\n",
    "So that why the first model \"LinearRegression\" give best resolts in the MMRE\n",
    "while the LinearSVR give bad results**"
   ]
  },
  {
   "cell_type": "code",
   "execution_count": null,
   "id": "bc34a0bb",
   "metadata": {},
   "outputs": [],
   "source": [
    "plt.grid()\n",
    "plt.scatter(data.storyPoint[data.team_size==5],target[data.team_size==5],c='red')\n",
    "plt.scatter(data.storyPoint[data.team_size==7],target[data.team_size==7],c='blue')\n",
    "plt.show()"
   ]
  },
  {
   "cell_type": "markdown",
   "id": "c767ad07",
   "metadata": {},
   "source": [
    "# Generale Results"
   ]
  },
  {
   "cell_type": "markdown",
   "id": "93657c36",
   "metadata": {},
   "source": [
    "| Models | Train_MMRE | Train_PRED25|Test_MMRE|Test_PRED25|\n",
    "| ----------- | ----------- |---|---|---|\n",
    "| LinearRegression | 0.12 |1|0.11|0.85|\n",
    "| RandomForestRegressor | 0.06 |1|0.16|0.85|\n",
    "| LinearSVR | 0.69 |0|0.7|0|"
   ]
  }
 ],
 "metadata": {
  "kernelspec": {
   "display_name": "Python 3 (ipykernel)",
   "language": "python",
   "name": "python3"
  },
  "language_info": {
   "codemirror_mode": {
    "name": "ipython",
    "version": 3
   },
   "file_extension": ".py",
   "mimetype": "text/x-python",
   "name": "python",
   "nbconvert_exporter": "python",
   "pygments_lexer": "ipython3",
   "version": "3.9.0"
  }
 },
 "nbformat": 4,
 "nbformat_minor": 5
}
