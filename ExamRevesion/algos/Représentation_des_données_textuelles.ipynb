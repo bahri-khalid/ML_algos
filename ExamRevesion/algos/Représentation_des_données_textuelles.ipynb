{
 "cells": [
  {
   "cell_type": "code",
   "execution_count": 166,
   "id": "742e137c",
   "metadata": {},
   "outputs": [],
   "source": [
    "import numpy as np\n",
    "import pandas as pd\n",
    "import matplotlib.pyplot as plt\n",
    "from sklearn.feature_extraction.text import CountVectorizer"
   ]
  },
  {
   "cell_type": "code",
   "execution_count": 167,
   "id": "49532112",
   "metadata": {},
   "outputs": [
    {
     "name": "stdout",
     "output_type": "stream",
     "text": [
      "['belle' 'douce' 'est' 'la' 'tranquille' 'vie']\n",
      "\n",
      "\t========================\n",
      "\n",
      "la matrice de sparse correspondante est \n",
      " [[0 1 1 1 0 1]\n",
      " [1 1 3 1 1 1]]\n"
     ]
    },
    {
     "data": {
      "text/plain": [
       "{'la': 3, 'vie': 5, 'est': 2, 'douce': 1, 'tranquille': 4, 'belle': 0}"
      ]
     },
     "execution_count": 167,
     "metadata": {},
     "output_type": "execute_result"
    }
   ],
   "source": [
    "texte = ['La vie est douce','la vie est tranquille, est belle, est douce']\n",
    "vec = CountVectorizer()\n",
    "vec.fit(texte)\n",
    "T = vec.transform(texte)\n",
    "dic_des_mots = vec.vocabulary_\n",
    "list_des_mots = dic_des_mots.keys()\n",
    "print(vec.get_feature_names_out())\n",
    "print(\"\\n\\t========================\\n\")\n",
    "print('la matrice de sparse correspondante est \\n',T.toarray())\n",
    "dic_des_mots"
   ]
  },
  {
   "cell_type": "markdown",
   "id": "280c7763",
   "metadata": {},
   "source": [
    "![alt text](https://miro.medium.com/max/1400/1*V9ac4hLVyms79jl65Ym_Bw.jpeg)"
   ]
  },
  {
   "cell_type": "code",
   "execution_count": 168,
   "id": "c7e0db7c",
   "metadata": {},
   "outputs": [
    {
     "name": "stderr",
     "output_type": "stream",
     "text": [
      "[nltk_data] Downloading package stopwords to /home/bahri-\n",
      "[nltk_data]     khalid/nltk_data...\n",
      "[nltk_data]   Package stopwords is already up-to-date!\n"
     ]
    }
   ],
   "source": [
    "from sklearn.feature_extraction.text import TfidfVectorizer\n",
    "import nltk\n",
    "import string\n",
    "nltk.download('stopwords')\n",
    "from nltk.corpus import stopwords"
   ]
  },
  {
   "cell_type": "code",
   "execution_count": 169,
   "id": "bf356480",
   "metadata": {},
   "outputs": [],
   "source": [
    "# la faction netoyage est etuliser pour netoyer le corpus_ensenble_documents out CED\n",
    "def netoyage(CED):\n",
    "    L = len(CED)\n",
    "    for i in range(L):\n",
    "        CED[i] = CED[i].lower()\n",
    "    for i in range(L):\n",
    "        for c in string.punctuation:\n",
    "            x = CED[i].replace(c,' ')\n",
    "            CED[i] = x\n",
    "    stopwords_french = stopwords.words(\"french\")\n",
    "    for i in range(L):\n",
    "        ls = CED[i].split()\n",
    "        for mot in ls:\n",
    "            if mot in stopwords_french:\n",
    "                while mot in ls:\n",
    "                    ls.remove(mot)\n",
    "        CED[i] = \" \".join(ls)\n",
    "    return CED"
   ]
  },
  {
   "cell_type": "code",
   "execution_count": 170,
   "id": "db1b1022",
   "metadata": {},
   "outputs": [],
   "source": [
    "texte = ['la vie est douce','la vie est tranquille, est belle, est douce','le corona-virus est mechant']"
   ]
  },
  {
   "cell_type": "code",
   "execution_count": null,
   "id": "ba649dc6",
   "metadata": {},
   "outputs": [],
   "source": []
  },
  {
   "cell_type": "code",
   "execution_count": 171,
   "id": "496296ba",
   "metadata": {},
   "outputs": [],
   "source": [
    "def TF(terme,document):\n",
    "    x = document.count(terme)\n",
    "    y = len(document.split())\n",
    "    return x/y if y!=0 else 0\n",
    "\n",
    "def TF_IDF(terme,corpus,docIndex):\n",
    "    D = len(corpus)\n",
    "    d_t = 0\n",
    "    for document in corpus:\n",
    "        if terme in document:\n",
    "            d_t+=1\n",
    "    TF_val = TF(terme,corpus[docIndex])\n",
    "    return TF_val*np.log(1+(D/d_t))\n",
    "def getFirstKeyOfValue(value,dic):\n",
    "    for key in dic.keys():\n",
    "        if dic[key] == value:\n",
    "            return key"
   ]
  },
  {
   "cell_type": "code",
   "execution_count": 172,
   "id": "ff911469",
   "metadata": {},
   "outputs": [
    {
     "data": {
      "text/plain": [
       "0.11453634148426939"
      ]
     },
     "execution_count": 172,
     "metadata": {},
     "output_type": "execute_result"
    }
   ],
   "source": [
    "TF('douce',texte[1])\n",
    "TF_IDF('douce',texte,1)"
   ]
  },
  {
   "cell_type": "code",
   "execution_count": 173,
   "id": "36389dd8",
   "metadata": {},
   "outputs": [],
   "source": [
    "def matrice_sparse(dic,CED):\n",
    "    L = len(CED)\n",
    "    M = np.zeros((L,len(dic.values())))\n",
    "    for i in range(L):\n",
    "        for j in dic.values():\n",
    "            x  = getFirstKeyOfValue(j,dic)\n",
    "            M[i,j] = TF_IDF(x,CED,i)\n",
    "    return M\n",
    "\n",
    "def affiche(M):\n",
    "    n,m= M.shape\n",
    "    for i in range(n):\n",
    "        for j in range(m):\n",
    "            M[i,j] = round(M[i,j],2)\n",
    "    print(M)"
   ]
  },
  {
   "cell_type": "code",
   "execution_count": 176,
   "id": "6ecaf749",
   "metadata": {},
   "outputs": [
    {
     "name": "stdout",
     "output_type": "stream",
     "text": [
      "matrice par sklearn: \n",
      "\n",
      " [[0.         0.         0.70710678 0.         0.         0.70710678\n",
      "  0.        ]\n",
      " [0.5628291  0.         0.42804604 0.         0.5628291  0.42804604\n",
      "  0.        ]\n",
      " [0.         0.57735027 0.         0.57735027 0.         0.\n",
      "  0.57735027]]\n",
      "\n",
      "=======================================\n",
      "\n",
      "\n",
      " notre matrice :\n",
      "\n",
      " [[0.         0.         0.45814537 0.         0.         0.45814537\n",
      "  0.        ]\n",
      " [0.34657359 0.         0.22907268 0.         0.34657359 0.22907268\n",
      "  0.        ]\n",
      " [0.         0.46209812 0.         0.46209812 0.         0.\n",
      "  0.46209812]]\n"
     ]
    },
    {
     "data": {
      "text/plain": [
       "{'vie': 5,\n",
       " 'douce': 2,\n",
       " 'tranquille': 4,\n",
       " 'belle': 0,\n",
       " 'corona': 1,\n",
       " 'virus': 6,\n",
       " 'mechant': 3}"
      ]
     },
     "execution_count": 176,
     "metadata": {},
     "output_type": "execute_result"
    }
   ],
   "source": [
    "texte = netoyage(texte)\n",
    "vect = TfidfVectorizer()\n",
    "T = vect.fit_transform(texte)\n",
    "dic = vect.vocabulary_\n",
    "list_des_mots =list(dic.keys())\n",
    "matrice_sparse_corr = T.toarray()\n",
    "notre_matrice = matrice_sparse(dic,texte)\n",
    "print('matrice par sklearn: \\n\\n',matrice_sparse_corr )\n",
    "print('\\n=======================================\\n')\n",
    "print('\\n notre matrice :\\n\\n',notre_matrice)\n",
    "list_des_mots\n",
    "dic"
   ]
  },
  {
   "cell_type": "code",
   "execution_count": null,
   "id": "f8525587",
   "metadata": {},
   "outputs": [],
   "source": []
  }
 ],
 "metadata": {
  "kernelspec": {
   "display_name": "Python 3 (ipykernel)",
   "language": "python",
   "name": "python3"
  },
  "language_info": {
   "codemirror_mode": {
    "name": "ipython",
    "version": 3
   },
   "file_extension": ".py",
   "mimetype": "text/x-python",
   "name": "python",
   "nbconvert_exporter": "python",
   "pygments_lexer": "ipython3",
   "version": "3.9.0"
  }
 },
 "nbformat": 4,
 "nbformat_minor": 5
}
