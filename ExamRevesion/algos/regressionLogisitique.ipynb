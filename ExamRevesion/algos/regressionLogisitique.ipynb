{
 "cells": [
  {
   "cell_type": "code",
   "execution_count": 1,
   "id": "361e5121",
   "metadata": {},
   "outputs": [],
   "source": [
    "import numpy as np\n",
    "import pandas as pd\n",
    "import matplotlib.pyplot as plt\n",
    "from sklearn import datasets\n",
    "from sklearn.linear_model import LogisticRegression"
   ]
  },
  {
   "cell_type": "code",
   "execution_count": 2,
   "id": "496def98",
   "metadata": {},
   "outputs": [],
   "source": [
    "iris = datasets.load_iris()\n",
    "X = iris.data[:,0:2]\n",
    "y = iris.target\n",
    "y[y==2] = 1"
   ]
  },
  {
   "cell_type": "code",
   "execution_count": 3,
   "id": "590c11d5",
   "metadata": {},
   "outputs": [
    {
     "data": {
      "text/plain": [
       "Text(0, 0.5, 'y')"
      ]
     },
     "execution_count": 3,
     "metadata": {},
     "output_type": "execute_result"
    },
    {
     "data": {
      "image/png": "[encoded data removed]",
      "text/plain": [
       "<Figure size 720x432 with 1 Axes>"
      ]
     },
     "metadata": {
      "needs_background": "light"
     },
     "output_type": "display_data"
    }
   ],
   "source": [
    "plt.figure(figsize=(10,6))\n",
    "plt.scatter(X[y==0][:,0],X[y==0][:,1])\n",
    "plt.scatter(X[y==1][:,0],X[y==1][:,1])\n",
    "plt.legend(labels = (\"classe 0\",\"classe 1\",\"classe 2\"))\n",
    "plt.xlabel(\"x\")\n",
    "plt.ylabel(\"y\")"
   ]
  },
  {
   "cell_type": "code",
   "execution_count": 25,
   "id": "40737aee",
   "metadata": {},
   "outputs": [
    {
     "data": {
      "text/plain": [
       "1.0"
      ]
     },
     "execution_count": 25,
     "metadata": {},
     "output_type": "execute_result"
    }
   ],
   "source": [
    "from sklearn.model_selection import train_test_split, cross_val_score\n",
    "x_train,x_test,y_train,y_test = train_test_split(X,y,test_size = 0.2,random_state = 0)\n",
    "model = LogisticRegression()\n",
    "model.fit(x_train,y_train)\n",
    "score = cross_val_score(model,x_test,y_test,cv = 5,scoring=\"accuracy\")\n",
    "th0 = model.intercept_\n",
    "th1 = model.coef_[0][0]\n",
    "th2 = model.coef_[0][1]\n",
    "model.score(x_test,y_test)"
   ]
  },
  {
   "cell_type": "code",
   "execution_count": 26,
   "id": "54b6936c",
   "metadata": {},
   "outputs": [],
   "source": [
    "def LReg(x1,x2):\n",
    "    z = th0 + th1*x1 + th2*x2\n",
    "    return z"
   ]
  },
  {
   "cell_type": "code",
   "execution_count": 35,
   "id": "70d41d07",
   "metadata": {},
   "outputs": [
    {
     "name": "stdout",
     "output_type": "stream",
     "text": [
      "[1, 1, 0, 1, 0, 1, 0, 1, 1, 1, 1, 1, 1, 1, 1, 0, 1, 1, 0, 0, 1, 1, 0, 0, 1, 0, 0, 1, 1, 0]\n",
      "\n",
      "\n",
      "[1 1 0 1 0 1 0 1 1 1 1 1 1 1 1 0 1 1 0 0 1 1 0 0 1 0 0 1 1 0]\n",
      "y = 1 \\s yP = 2.265228975123321\n",
      "\n",
      "\n",
      "y = 1 \\s yP = 4.642291176712148\n",
      "\n",
      "\n",
      "y = 0 \\s yP = -2.7548160556040138\n",
      "\n",
      "\n",
      "y = 1 \\s yP = 6.712239586273803\n",
      "\n",
      "\n",
      "y = 0 \\s yP = -2.0069936091932243\n",
      "\n",
      "\n",
      "y = 1 \\s yP = 2.3900775657189914\n",
      "\n",
      "\n",
      "y = 0 \\s yP = -2.2978839548620433\n",
      "\n",
      "\n",
      "y = 1 \\s yP = 4.235298512208443\n",
      "\n",
      "\n",
      "y = 1 \\s yP = 5.423829613002859\n",
      "\n",
      "\n",
      "y = 1 \\s yP = 3.212809166487183\n",
      "\n",
      "\n",
      "y = 1 \\s yP = 3.794589857824821\n",
      "\n",
      "\n",
      "y = 1 \\s yP = 2.9968279751757656\n",
      "\n",
      "\n",
      "y = 1 \\s yP = 3.212809166487183\n",
      "\n",
      "\n",
      "y = 1 \\s yP = 4.476249421638997\n",
      "\n",
      "\n",
      "y = 1 \\s yP = 2.9219188208183624\n",
      "\n",
      "\n",
      "y = 0 \\s yP = -2.9046343643188157\n",
      "\n",
      "\n",
      "y = 1 \\s yP = 2.606058757030411\n",
      "\n",
      "\n",
      "y = 1 \\s yP = 1.8994294750971008\n",
      "\n",
      "\n",
      "y = 0 \\s yP = -1.4751523540938516\n",
      "\n",
      "\n",
      "y = 0 \\s yP = -2.198005082385505\n",
      "\n",
      "\n",
      "y = 1 \\s yP = 1.6335088475474144\n",
      "\n",
      "\n",
      "y = 1 \\s yP = 1.0517281562097747\n",
      "\n",
      "\n",
      "y = 0 \\s yP = -2.638713736769131\n",
      "\n",
      "\n",
      "y = 0 \\s yP = -2.4477022635768444\n",
      "\n",
      "\n",
      "y = 1 \\s yP = 3.5286692302751383\n",
      "\n",
      "\n",
      "y = 0 \\s yP = -3.8522145556826777\n",
      "\n",
      "\n",
      "y = 0 \\s yP = -2.8546949280805514\n",
      "\n",
      "\n",
      "y = 1 \\s yP = 3.2377788846063176\n",
      "\n",
      "\n",
      "y = 1 \\s yP = 1.1928001931637926\n",
      "\n",
      "\n",
      "y = 0 \\s yP = -2.0069936091932243\n",
      "\n",
      "\n"
     ]
    }
   ],
   "source": [
    "print([1 if (1/(1+np.exp(-LReg(e[0],e[1]))))>0.5 else 0 for e in x_test])\n",
    "print('\\n')\n",
    "print(model.predict(x_test))\n",
    "LReg(x_test[0],x_test[1])\n",
    "x_test[4]\n",
    "y_test[4]\n",
    "LReg(x_test[4][0],x_test[4][1])[0]\n",
    "for i in range(len(x_test)):\n",
    "    print(f'y = {y_test[i]} \\s yP = {LReg(x_test[i][0],x_test[i][1])[0]}\\n\\n')"
   ]
  },
  {
   "cell_type": "code",
   "execution_count": null,
   "id": "9217dc2f",
   "metadata": {},
   "outputs": [],
   "source": []
  }
 ],
 "metadata": {
  "kernelspec": {
   "display_name": "Python 3 (ipykernel)",
   "language": "python",
   "name": "python3"
  },
  "language_info": {
   "codemirror_mode": {
    "name": "ipython",
    "version": 3
   },
   "file_extension": ".py",
   "mimetype": "text/x-python",
   "name": "python",
   "nbconvert_exporter": "python",
   "pygments_lexer": "ipython3",
   "version": "3.9.0"
  }
 },
 "nbformat": 4,
 "nbformat_minor": 5
}
