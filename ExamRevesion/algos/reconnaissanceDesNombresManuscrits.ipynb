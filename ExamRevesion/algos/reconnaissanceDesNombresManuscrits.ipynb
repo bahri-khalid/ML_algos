{
 "cells": [
  {
   "cell_type": "code",
   "execution_count": 2,
   "id": "3b676efd",
   "metadata": {},
   "outputs": [],
   "source": [
    "import numpy as np\n",
    "import matplotlib.pyplot as plt\n",
    "import pandas\n",
    "from sklearn.tree import DecisionTreeClassifier\n",
    "rg = np.random.default_rng(1)"
   ]
  },
  {
   "cell_type": "code",
   "execution_count": 3,
   "id": "fbe554ff",
   "metadata": {},
   "outputs": [],
   "source": [
    "data = pandas.read_csv(\"../resources/images_chiffres_codees_niveau_de_gris.csv\")\n",
    "y = data.label\n",
    "data.drop(['label'],axis=1,inplace=True)\n",
    "from sklearn.model_selection import train_test_split\n",
    "data_train,data_test,y_train,y_test = train_test_split(data,y,test_size = 0.8,random_state=1)"
   ]
  },
  {
   "cell_type": "code",
   "execution_count": 4,
   "id": "41066102",
   "metadata": {},
   "outputs": [
    {
     "name": "stdout",
     "output_type": "stream",
     "text": [
      "learing score from decision tree 0.61328125\n"
     ]
    }
   ],
   "source": [
    "clf = DecisionTreeClassifier()\n",
    "clf.fit(data_train,y_train)\n",
    "clf.predict(data_test)\n",
    "print(\"learing score from decision tree\",clf.score(data_test,y_test))"
   ]
  },
  {
   "cell_type": "code",
   "execution_count": 5,
   "id": "45bd183f",
   "metadata": {},
   "outputs": [
    {
     "name": "stdout",
     "output_type": "stream",
     "text": [
      "6\n",
      "predicted : 6\n"
     ]
    },
    {
     "name": "stderr",
     "output_type": "stream",
     "text": [
      "/home/bahri-khalid/anaconda3/envs/mldl/lib/python3.9/site-packages/sklearn/base.py:450: UserWarning: X does not have valid feature names, but DecisionTreeClassifier was fitted with feature names\n",
      "  warnings.warn(\n"
     ]
    },
    {
     "data": {
      "image/png": "[encoded data removed]",
      "text/plain": [
       "<Figure size 432x288 with 1 Axes>"
      ]
     },
     "metadata": {
      "needs_background": "light"
     },
     "output_type": "display_data"
    }
   ],
   "source": [
    "n = 333\n",
    "example = data_test.iloc[n]\n",
    "print(y_test.iloc[n])\n",
    "print('predicted :',clf.predict([example])[0])\n",
    "# example.shape = (28,28)\n",
    "img = example.values\n",
    "img.shape=(28,28)\n",
    "plt.imshow(255-img,cmap = 'gray')\n",
    "plt.show()"
   ]
  },
  {
   "cell_type": "code",
   "execution_count": 6,
   "id": "c1d40624",
   "metadata": {},
   "outputs": [
    {
     "name": "stdout",
     "output_type": "stream",
     "text": [
      "predicted : 5\n"
     ]
    },
    {
     "name": "stderr",
     "output_type": "stream",
     "text": [
      "/home/bahri-khalid/anaconda3/envs/mldl/lib/python3.9/site-packages/sklearn/base.py:450: UserWarning: X does not have valid feature names, but DecisionTreeClassifier was fitted with feature names\n",
      "  warnings.warn(\n"
     ]
    },
    {
     "data": {
      "image/png": "[encoded data removed]",
      "text/plain": [
       "<Figure size 432x288 with 1 Axes>"
      ]
     },
     "metadata": {
      "needs_background": "light"
     },
     "output_type": "display_data"
    }
   ],
   "source": [
    "# Now i'll try to make some noisy on my dataset and make prediction\n",
    "# print(np.random.rand(28,28))\n",
    "noise = np.floor(100 * rg.random((28, 28)))%255\n",
    "newImg = img+noise\n",
    "test = newImg.copy()\n",
    "test.shape = (1,784)\n",
    "plt.imshow(255-newImg,cmap = 'gray')\n",
    "print('predicted :',clf.predict(test)[0])"
   ]
  },
  {
   "cell_type": "markdown",
   "id": "29ee0f3b",
   "metadata": {},
   "source": [
    "## Now we are going to make the process but using the KNN model"
   ]
  },
  {
   "cell_type": "code",
   "execution_count": 7,
   "id": "0dedd127",
   "metadata": {},
   "outputs": [
    {
     "name": "stdout",
     "output_type": "stream",
     "text": [
      "Learing score from KNN 0.81884765625\n",
      "predicted : 6\n"
     ]
    },
    {
     "name": "stderr",
     "output_type": "stream",
     "text": [
      "/home/bahri-khalid/anaconda3/envs/mldl/lib/python3.9/site-packages/sklearn/base.py:450: UserWarning: X does not have valid feature names, but KNeighborsClassifier was fitted with feature names\n",
      "  warnings.warn(\n"
     ]
    }
   ],
   "source": [
    "from sklearn.neighbors import KNeighborsClassifier\n",
    "neigh = KNeighborsClassifier(n_neighbors=10)\n",
    "neigh.fit(data_train,y_train)\n",
    "print(\"Learing score from KNN\",neigh.score(data_test,y_test))\n",
    "print('predicted :',neigh.predict(test)[0])"
   ]
  }
 ],
 "metadata": {
  "kernelspec": {
   "display_name": "Python 3 (ipykernel)",
   "language": "python",
   "name": "python3"
  },
  "language_info": {
   "codemirror_mode": {
    "name": "ipython",
    "version": 3
   },
   "file_extension": ".py",
   "mimetype": "text/x-python",
   "name": "python",
   "nbconvert_exporter": "python",
   "pygments_lexer": "ipython3",
   "version": "3.9.0"
  }
 },
 "nbformat": 4,
 "nbformat_minor": 5
}
